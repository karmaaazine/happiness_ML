{
 "cells": [
  {
   "cell_type": "code",
   "execution_count": 138,
   "id": "982eb07a",
   "metadata": {},
   "outputs": [],
   "source": [
    "import pandas as pd\n",
    "import numpy as np\n",
    "import matplotlib.pyplot as plt\n",
    "import seaborn as sns\n",
    "\n",
    "from sklearn.model_selection import train_test_split\n",
    "from sklearn.preprocessing import StandardScaler, OneHotEncoder\n",
    "from sklearn.impute import SimpleImputer\n",
    "from sklearn.compose import ColumnTransformer\n",
    "from sklearn.pipeline import Pipeline\n",
    "\n",
    "from sklearn.linear_model import LogisticRegression\n",
    "from sklearn.ensemble import RandomForestClassifier\n",
    "from sklearn.svm import SVC\n",
    "\n",
    "from sklearn.metrics import classification_report, confusion_matrix, roc_auc_score, accuracy_score\n",
    "from sklearn.model_selection import GridSearchCV, RandomizedSearchCV\n",
    "\n",
    "from imblearn.over_sampling import SMOTE\n",
    "import joblib"
   ]
  },
  {
   "cell_type": "code",
   "execution_count": 139,
   "id": "514864b4",
   "metadata": {},
   "outputs": [
    {
     "name": "stdout",
     "output_type": "stream",
     "text": [
      "   Unnamed: 0  year          workstat  prestige divorce widowed  educ  \\\n",
      "0           1  1994     keeping house      46.0     NaN     iap  12.0   \n",
      "1           2  1994  working fulltime      22.0      no     iap  12.0   \n",
      "2           3  1994  working fulltime      29.0      no     iap  12.0   \n",
      "3           4  1994  working fulltime      42.0     yes     iap   8.0   \n",
      "4           5  1994  working parttime      36.0     NaN     NaN  13.0   \n",
      "\n",
      "             reg16  babies  preteen  ...  occattend regattend y94 y96 y98 y00  \\\n",
      "0  middle atlantic     2.0      3.0  ...        1.0       0.0   1   0   0   0   \n",
      "1          foreign     0.0      0.0  ...        0.0       0.0   1   0   0   0   \n",
      "2          foreign     0.0      0.0  ...        0.0       1.0   1   0   0   0   \n",
      "3          foreign     0.0      0.0  ...        0.0       0.0   1   0   0   0   \n",
      "4  middle atlantic     0.0      1.0  ...        0.0       0.0   1   0   0   0   \n",
      "\n",
      "   y02  y04  y06  unem10  \n",
      "0    0    0    0     1.0  \n",
      "1    0    0    0     0.0  \n",
      "2    0    0    0     NaN  \n",
      "3    0    0    0     1.0  \n",
      "4    0    0    0     0.0  \n",
      "\n",
      "[5 rows x 34 columns]\n",
      "<class 'pandas.core.frame.DataFrame'>\n",
      "RangeIndex: 17137 entries, 0 to 17136\n",
      "Data columns (total 34 columns):\n",
      " #   Column       Non-Null Count  Dtype  \n",
      "---  ------       --------------  -----  \n",
      " 0   Unnamed: 0   17137 non-null  int64  \n",
      " 1   year         17137 non-null  int64  \n",
      " 2   workstat     17134 non-null  object \n",
      " 3   prestige     16283 non-null  float64\n",
      " 4   divorce      9754 non-null   object \n",
      " 5   widowed      11096 non-null  object \n",
      " 6   educ         17093 non-null  float64\n",
      " 7   reg16        17137 non-null  object \n",
      " 8   babies       17036 non-null  float64\n",
      " 9   preteen      17036 non-null  float64\n",
      " 10  teens        17049 non-null  float64\n",
      " 11  income       15045 non-null  object \n",
      " 12  region       17137 non-null  object \n",
      " 13  attend       16864 non-null  object \n",
      " 14  happy        17137 non-null  object \n",
      " 15  owngun       11297 non-null  object \n",
      " 16  tvhours      11794 non-null  float64\n",
      " 17  vhappy       17137 non-null  int64  \n",
      " 18  mothfath16   17132 non-null  float64\n",
      " 19  black        17137 non-null  int64  \n",
      " 20  gwbush04     1930 non-null   float64\n",
      " 21  female       17137 non-null  int64  \n",
      " 22  blackfemale  17137 non-null  int64  \n",
      " 23  gwbush00     3436 non-null   float64\n",
      " 24  occattend    16864 non-null  float64\n",
      " 25  regattend    16864 non-null  float64\n",
      " 26  y94          17137 non-null  int64  \n",
      " 27  y96          17137 non-null  int64  \n",
      " 28  y98          17137 non-null  int64  \n",
      " 29  y00          17137 non-null  int64  \n",
      " 30  y02          17137 non-null  int64  \n",
      " 31  y04          17137 non-null  int64  \n",
      " 32  y06          17137 non-null  int64  \n",
      " 33  unem10       11341 non-null  float64\n",
      "dtypes: float64(12), int64(13), object(9)\n",
      "memory usage: 4.4+ MB\n",
      "None\n"
     ]
    }
   ],
   "source": [
    "# 2. Chargement des données\n",
    "df = pd.read_csv(r'C:\\Users\\HP\\Documents\\csv\\Kag_happiness_indicators.csv')\n",
    "# Initial exploration\n",
    "print(df.head()) #c'est pour afficher les 5 premieres ligne \n",
    "print(df.info()) # c'est pour afficher  le nombre des colonnes et les lignes et le  type de chaque colonne d'apres le dataframe\n",
    " "
   ]
  },
  {
   "cell_type": "code",
   "execution_count": 140,
   "id": "bc1c828a",
   "metadata": {},
   "outputs": [
    {
     "name": "stdout",
     "output_type": "stream",
     "text": [
      "         Unnamed: 0          year      prestige          educ        babies  \\\n",
      "count  17137.000000  17137.000000  16283.000000  17093.000000  17036.000000   \n",
      "mean    8569.000000   1999.474120     43.877541     13.319078      0.207091   \n",
      "std     4947.170117      4.143358     13.873965      2.986785      0.540542   \n",
      "min        1.000000   1994.000000     17.000000      0.000000      0.000000   \n",
      "25%     4285.000000   1996.000000     33.000000     12.000000      0.000000   \n",
      "50%     8569.000000   1998.000000     43.000000     13.000000      0.000000   \n",
      "75%    12853.000000   2004.000000     51.000000     16.000000      0.000000   \n",
      "max    17137.000000   2006.000000     86.000000     20.000000      6.000000   \n",
      "\n",
      "            preteen         teens       tvhours        vhappy    mothfath16  \\\n",
      "count  17036.000000  17049.000000  11794.000000  17137.000000  17132.000000   \n",
      "mean       0.255753      0.181360      2.904019      0.306938      0.692972   \n",
      "std        0.621533      0.493698      2.327457      0.461237      0.461274   \n",
      "min        0.000000      0.000000      0.000000      0.000000      0.000000   \n",
      "25%        0.000000      0.000000      1.000000      0.000000      0.000000   \n",
      "50%        0.000000      0.000000      2.000000      0.000000      1.000000   \n",
      "75%        0.000000      0.000000      4.000000      1.000000      1.000000   \n",
      "max        6.000000      7.000000     24.000000      1.000000      1.000000   \n",
      "\n",
      "       ...     occattend     regattend           y94           y96  \\\n",
      "count  ...  16864.000000  16864.000000  17137.000000  17137.000000   \n",
      "mean   ...      0.284986      0.131226      0.173718      0.168349   \n",
      "std    ...      0.451421      0.337658      0.378878      0.374187   \n",
      "min    ...      0.000000      0.000000      0.000000      0.000000   \n",
      "25%    ...      0.000000      0.000000      0.000000      0.000000   \n",
      "50%    ...      0.000000      0.000000      0.000000      0.000000   \n",
      "75%    ...      1.000000      0.000000      0.000000      0.000000   \n",
      "max    ...      1.000000      1.000000      1.000000      1.000000   \n",
      "\n",
      "                y98           y00           y02           y04           y06  \\\n",
      "count  17137.000000  17137.000000  17137.000000  17137.000000  17137.000000   \n",
      "mean       0.163739      0.162047      0.079886      0.078018      0.174243   \n",
      "std        0.370050      0.368505      0.271124      0.268208      0.379329   \n",
      "min        0.000000      0.000000      0.000000      0.000000      0.000000   \n",
      "25%        0.000000      0.000000      0.000000      0.000000      0.000000   \n",
      "50%        0.000000      0.000000      0.000000      0.000000      0.000000   \n",
      "75%        0.000000      0.000000      0.000000      0.000000      0.000000   \n",
      "max        1.000000      1.000000      1.000000      1.000000      1.000000   \n",
      "\n",
      "             unem10  \n",
      "count  11341.000000  \n",
      "mean       0.318402  \n",
      "std        0.465877  \n",
      "min        0.000000  \n",
      "25%        0.000000  \n",
      "50%        0.000000  \n",
      "75%        1.000000  \n",
      "max        1.000000  \n",
      "\n",
      "[8 rows x 25 columns]\n"
     ]
    }
   ],
   "source": [
    "print(df.describe()) #afficher les statistiques des colonnes numeriquesd'apres le data frame comme le moyenne \n",
    "#l'ecart type et les valeurs ,inimale ,maximal les quartiles \n"
   ]
  },
  {
   "cell_type": "code",
   "execution_count": 141,
   "id": "9d536ce2",
   "metadata": {},
   "outputs": [
    {
     "name": "stdout",
     "output_type": "stream",
     "text": [
      "Unnamed: 0         0\n",
      "year               0\n",
      "workstat           3\n",
      "prestige         854\n",
      "divorce         7383\n",
      "widowed         6041\n",
      "educ              44\n",
      "reg16              0\n",
      "babies           101\n",
      "preteen          101\n",
      "teens             88\n",
      "income          2092\n",
      "region             0\n",
      "attend           273\n",
      "happy              0\n",
      "owngun          5840\n",
      "tvhours         5343\n",
      "vhappy             0\n",
      "mothfath16         5\n",
      "black              0\n",
      "gwbush04       15207\n",
      "female             0\n",
      "blackfemale        0\n",
      "gwbush00       13701\n",
      "occattend        273\n",
      "regattend        273\n",
      "y94                0\n",
      "y96                0\n",
      "y98                0\n",
      "y00                0\n",
      "y02                0\n",
      "y04                0\n",
      "y06                0\n",
      "unem10          5796\n",
      "dtype: int64\n"
     ]
    }
   ],
   "source": [
    "# Check for missing values\n",
    "print(df.isnull().sum())\n"
   ]
  },
  {
   "cell_type": "code",
   "execution_count": 142,
   "id": "bb413ee1",
   "metadata": {},
   "outputs": [
    {
     "name": "stdout",
     "output_type": "stream",
     "text": [
      "happy\n",
      "pretty happy     9791\n",
      "very happy       5260\n",
      "not too happy    2086\n",
      "Name: count, dtype: int64\n"
     ]
    },
    {
     "data": {
      "image/png": "[encoded data removed]",
      "text/plain": [
       "<Figure size 640x480 with 1 Axes>"
      ]
     },
     "metadata": {},
     "output_type": "display_data"
    },
    {
     "name": "stdout",
     "output_type": "stream",
     "text": [
      "happy_binary\n",
      "1    15051\n",
      "0     2086\n",
      "Name: count, dtype: int64\n"
     ]
    }
   ],
   "source": [
    "# Explore the target variable 'happy'\n",
    "print(df['happy'].value_counts()) #compte les valeurs unique pour chaque d'occurance\n",
    "sns.countplot(x='happy', data=df) # la fonction sns.countplot permet d'afficher un graphique pour visualiser la distribution des valeurs different de la variable happy not happy et very happy\n",
    "plt.title('Distribution of Happiness Levels') # permet juste d'aaficher un titre au debut de graphe \n",
    "plt.show()\n",
    "\n",
    "# conversion  de la variable heppy en  binaire  \n",
    "df['happy_binary'] = df['happy'].apply(lambda x: 1 if x in ['very happy', 'pretty happy'] else 0)\n",
    "print(df['happy_binary'].value_counts())\n",
    "#si par exemple la vleur very happy ou bien pretty happy donne la valeur 0 si la valeur not happy on donne la valeur 0"
   ]
  },
  {
   "cell_type": "code",
   "execution_count": null,
   "id": "a2011885",
   "metadata": {},
   "outputs": [],
   "source": [
    "\n",
    " \n"
   ]
  },
  {
   "cell_type": "code",
   "execution_count": null,
   "id": "e32b0a14",
   "metadata": {},
   "outputs": [],
   "source": [
    " "
   ]
  },
  {
   "cell_type": "code",
   "execution_count": null,
   "id": "e8776138",
   "metadata": {},
   "outputs": [],
   "source": [
    " "
   ]
  },
  {
   "cell_type": "code",
   "execution_count": null,
   "id": "b086cbf5",
   "metadata": {},
   "outputs": [],
   "source": []
  },
  {
   "cell_type": "code",
   "execution_count": 143,
   "id": "d2b3696b",
   "metadata": {},
   "outputs": [
    {
     "data": {
      "image/png": "[encoded data removed]",
      "text/plain": [
       "<Figure size 1800x500 with 1 Axes>"
      ]
     },
     "metadata": {},
     "output_type": "display_data"
    }
   ],
   "source": [
    "# Happiness by year (if multiple years exist)\n",
    "plt.figure(figsize=(18, 5))\n",
    "if 'year' in df.columns:\n",
    "    plt.subplot(1, 3, 3)\n",
    "    sns.countplot(x='year', hue='happy_binary', data=df, palette='Set2')\n",
    "    plt.title('Happiness Trend Over Years')\n",
    "    plt.legend(['Not Happy', 'Happy'])\n",
    "\n",
    "plt.tight_layout()\n",
    "plt.show()"
   ]
  },
  {
   "cell_type": "code",
   "execution_count": 144,
   "id": "f65b67ef",
   "metadata": {},
   "outputs": [
    {
     "name": "stderr",
     "output_type": "stream",
     "text": [
      "C:\\Users\\HP\\AppData\\Local\\Temp\\ipykernel_924\\4102356228.py:5: FutureWarning: \n",
      "\n",
      "Passing `palette` without assigning `hue` is deprecated and will be removed in v0.14.0. Assign the `x` variable to `hue` and set `legend=False` for the same effect.\n",
      "\n",
      "  sns.barplot(x='divorce', y='happy_binary', data=temp_df, palette='viridis')\n"
     ]
    },
    {
     "data": {
      "image/png": "[encoded data removed]",
      "text/plain": [
       "<Figure size 800x600 with 1 Axes>"
      ]
     },
     "metadata": {},
     "output_type": "display_data"
    }
   ],
   "source": [
    "plt.figure(figsize=(8, 6))\n",
    "\n",
    "if 'divorce' in df.columns:\n",
    "    temp_df = df.groupby('divorce')['happy_binary'].mean().reset_index()\n",
    "    sns.barplot(x='divorce', y='happy_binary', data=temp_df, palette='viridis')\n",
    "    plt.title('Happiness by divorce')\n",
    "    plt.xticks(rotation=45)\n",
    "    plt.ylabel('Happiness Proportion')\n",
    "    plt.tight_layout()\n",
    "    plt.show()"
   ]
  }
 ],
 "metadata": {
  "kernelspec": {
   "display_name": "Python 3",
   "language": "python",
   "name": "python3"
  },
  "language_info": {
   "codemirror_mode": {
    "name": "ipython",
    "version": 3
   },
   "file_extension": ".py",
   "mimetype": "text/x-python",
   "name": "python",
   "nbconvert_exporter": "python",
   "pygments_lexer": "ipython3",
   "version": "3.13.0"
  }
 },
 "nbformat": 4,
 "nbformat_minor": 5
}
